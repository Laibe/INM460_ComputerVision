{
 "cells": [
  {
   "cell_type": "markdown",
   "metadata": {},
   "source": [
    "# Testing the Accuracy of the detectNum Function\n"
   ]
  },
  {
   "cell_type": "code",
   "execution_count": 1,
   "metadata": {
    "collapsed": true
   },
   "outputs": [],
   "source": [
    "import numpy as np\n",
    "from pathlib import Path\n",
    "from ocr import detectNum\n",
    "from tqdm import tqdm\n",
    "from sklearn.metrics import accuracy_score"
   ]
  },
  {
   "cell_type": "code",
   "execution_count": 2,
   "metadata": {
    "collapsed": true
   },
   "outputs": [],
   "source": [
    "root = Path('./') # define root path\n",
    "data_path = Path('data') # define data path\n",
    "raw_path = data_path.joinpath('raw')"
   ]
  },
  {
   "cell_type": "code",
   "execution_count": 3,
   "metadata": {
    "collapsed": true
   },
   "outputs": [],
   "source": [
    "def predict_num(path,pattern):\n",
    "    '''\n",
    "    Function that recognises the number on the A4 paper\n",
    "    input: \n",
    "    path: path to data\n",
    "    pattern: e.g. '*.jpg' , '*.MOV' , '*.JPG'\n",
    "    '''\n",
    "    true_classes = []\n",
    "    pred_classes = []\n",
    "    image_paths = []\n",
    "    for child in tqdm(path.iterdir()):\n",
    "        if str(child).split('.')[-1] == 'DS_Store' or str(child).split('/')[-1] == 'Group': # ignore mac os DS_Store file\n",
    "            pass\n",
    "        else:\n",
    "            for image_path in child.glob(pattern):\n",
    "                class_id = str(child.absolute()).split('/')[-1]\n",
    "                image_paths.append(image_path)\n",
    "                number = detectNum(str(image_path.absolute()))\n",
    "                if number != []:\n",
    "                    pred_classes.append(number[0])\n",
    "                else:\n",
    "                    pred_classes.append('0')\n",
    "                true_classes.append(class_id)\n",
    "    return true_classes,pred_classes,image_paths\n"
   ]
  },
  {
   "cell_type": "markdown",
   "metadata": {},
   "source": [
    "## 1 Images with .jpg ending, taken with iPhone 7 Plus and the large black folder background"
   ]
  },
  {
   "cell_type": "markdown",
   "metadata": {},
   "source": [
    "### 1.1 Without Sliding Window"
   ]
  },
  {
   "cell_type": "code",
   "execution_count": null,
   "metadata": {
    "collapsed": true,
    "scrolled": true
   },
   "outputs": [],
   "source": [
    "tru,pred,imgpaths = predict_num(raw_path,'*.jpg')"
   ]
  },
  {
   "cell_type": "code",
   "execution_count": 29,
   "metadata": {},
   "outputs": [
    {
     "name": "stdout",
     "output_type": "stream",
     "text": [
      "Dataset size: 237\n"
     ]
    }
   ],
   "source": [
    "print('Dataset size: {}'.format(len(pred)))"
   ]
  },
  {
   "cell_type": "code",
   "execution_count": 25,
   "metadata": {},
   "outputs": [
    {
     "data": {
      "text/plain": [
       "0.8649789029535865"
      ]
     },
     "execution_count": 25,
     "metadata": {},
     "output_type": "execute_result"
    }
   ],
   "source": [
    "tru_in = [int(i) for i in tru]\n",
    "tru_in2 = [i-100 if i>100 else i for i in tru_in] # convert numbers > 100 to labels on the digit. E.g. 107 -> 07\n",
    "pred_in = [int(i) for i in pred]\n",
    "accuracy_score(tru_in2,pred_in)"
   ]
  },
  {
   "cell_type": "markdown",
   "metadata": {},
   "source": [
    "### 1.2 With sliding window"
   ]
  },
  {
   "cell_type": "code",
   "execution_count": 4,
   "metadata": {},
   "outputs": [
    {
     "name": "stderr",
     "output_type": "stream",
     "text": [
      "7it [00:13,  1.87s/it]"
     ]
    },
    {
     "name": "stdout",
     "output_type": "stream",
     "text": [
      "No numbers were found in the detected rectangles, now trying the sliding window approach. This may take a minute or two.\n"
     ]
    },
    {
     "name": "stderr",
     "output_type": "stream",
     "text": [
      "12it [01:17,  6.46s/it]"
     ]
    },
    {
     "name": "stdout",
     "output_type": "stream",
     "text": [
      "No numbers were found in the detected rectangles, now trying the sliding window approach. This may take a minute or two.\n"
     ]
    },
    {
     "name": "stderr",
     "output_type": "stream",
     "text": [
      "14it [02:01,  8.65s/it]"
     ]
    },
    {
     "name": "stdout",
     "output_type": "stream",
     "text": [
      "No numbers were found in the detected rectangles, now trying the sliding window approach. This may take a minute or two.\n"
     ]
    },
    {
     "name": "stderr",
     "output_type": "stream",
     "text": [
      "16it [02:42, 10.18s/it]"
     ]
    },
    {
     "name": "stdout",
     "output_type": "stream",
     "text": [
      "No numbers were found in the detected rectangles, now trying the sliding window approach. This may take a minute or two.\n",
      "No numbers were found in the detected rectangles, now trying the sliding window approach. This may take a minute or two.\n",
      "No numbers were found in the detected rectangles, now trying the sliding window approach. This may take a minute or two.\n"
     ]
    },
    {
     "name": "stderr",
     "output_type": "stream",
     "text": [
      "23it [04:17, 11.20s/it]"
     ]
    },
    {
     "name": "stdout",
     "output_type": "stream",
     "text": [
      "No numbers were found in the detected rectangles, now trying the sliding window approach. This may take a minute or two.\n",
      "No numbers were found in the detected rectangles, now trying the sliding window approach. This may take a minute or two.\n"
     ]
    },
    {
     "name": "stderr",
     "output_type": "stream",
     "text": [
      "29it [05:44, 11.88s/it]"
     ]
    },
    {
     "name": "stdout",
     "output_type": "stream",
     "text": [
      "No numbers were found in the detected rectangles, now trying the sliding window approach. This may take a minute or two.\n",
      "No numbers were found in the detected rectangles, now trying the sliding window approach. This may take a minute or two.\n"
     ]
    },
    {
     "name": "stderr",
     "output_type": "stream",
     "text": [
      "\r",
      "39it [06:46, 10.42s/it]"
     ]
    },
    {
     "name": "stdout",
     "output_type": "stream",
     "text": [
      "No numbers were found in the detected rectangles, now trying the sliding window approach. This may take a minute or two.\n"
     ]
    },
    {
     "name": "stderr",
     "output_type": "stream",
     "text": [
      "49it [08:02,  9.84s/it]"
     ]
    },
    {
     "name": "stdout",
     "output_type": "stream",
     "text": [
      "No numbers were found in the detected rectangles, now trying the sliding window approach. This may take a minute or two.\n"
     ]
    },
    {
     "name": "stderr",
     "output_type": "stream",
     "text": [
      "55it [08:59,  9.81s/it]\n"
     ]
    }
   ],
   "source": [
    "truSW,predSW,imgpathsSW = predict_num(raw_path,'*.jpg')"
   ]
  },
  {
   "cell_type": "code",
   "execution_count": 5,
   "metadata": {},
   "outputs": [
    {
     "name": "stdout",
     "output_type": "stream",
     "text": [
      "Dataset size: 237\n"
     ]
    }
   ],
   "source": [
    "print('Dataset size: {}'.format(len(predSW)))"
   ]
  },
  {
   "cell_type": "code",
   "execution_count": 6,
   "metadata": {},
   "outputs": [
    {
     "data": {
      "text/plain": [
       "0.9029535864978903"
      ]
     },
     "execution_count": 6,
     "metadata": {},
     "output_type": "execute_result"
    }
   ],
   "source": [
    "tru_int = [int(i) for i in truSW]\n",
    "tru_int2 = [i-100 if i>100 else i for i in tru_int] # convert numbers > 100 to labels on the digit. E.g. 107 -> 07\n",
    "pred_int = [int(i) for i in predSW]\n",
    "accuracy_score(tru_int,pred_int)"
   ]
  },
  {
   "cell_type": "code",
   "execution_count": 7,
   "metadata": {
    "collapsed": true
   },
   "outputs": [],
   "source": [
    "tru_int2 = [i-100 if i>100 else i for i in tru_int]"
   ]
  },
  {
   "cell_type": "code",
   "execution_count": 8,
   "metadata": {},
   "outputs": [
    {
     "data": {
      "text/plain": [
       "0.9873417721518988"
      ]
     },
     "execution_count": 8,
     "metadata": {},
     "output_type": "execute_result"
    }
   ],
   "source": [
    "accuracy_score(tru_int2,pred_int)"
   ]
  },
  {
   "cell_type": "markdown",
   "metadata": {},
   "source": [
    "## 2 Images with .JPG ending taken with iPhone 7 and iphone SE, without the large black folder"
   ]
  },
  {
   "cell_type": "markdown",
   "metadata": {},
   "source": [
    "### 2.1 Without sliding window"
   ]
  },
  {
   "cell_type": "code",
   "execution_count": 30,
   "metadata": {},
   "outputs": [
    {
     "name": "stderr",
     "output_type": "stream",
     "text": [
      "55it [06:06,  6.66s/it]\n"
     ]
    }
   ],
   "source": [
    "trueJ,predJ,imgpathsJ = predict_num(raw_path,'*.JPG')"
   ]
  },
  {
   "cell_type": "code",
   "execution_count": 32,
   "metadata": {},
   "outputs": [
    {
     "name": "stdout",
     "output_type": "stream",
     "text": [
      "Dataset size: 262\n"
     ]
    }
   ],
   "source": [
    "print('Dataset size: {}'.format(len(predJ)))"
   ]
  },
  {
   "cell_type": "code",
   "execution_count": 31,
   "metadata": {},
   "outputs": [
    {
     "data": {
      "text/plain": [
       "0.30916030534351147"
      ]
     },
     "execution_count": 31,
     "metadata": {},
     "output_type": "execute_result"
    }
   ],
   "source": [
    "trueJ_int = [int(i) for i in trueJ]\n",
    "predJ_int = [int(i) for i in predJ]\n",
    "accuracy_score(trueJ_int,predJ_int)"
   ]
  },
  {
   "cell_type": "markdown",
   "metadata": {},
   "source": [
    "The bad performance on this dataset results from the fact that our algorithm was designed to detect the white rectangle (A4 paper) on top of a slighly larger black rectangle. As there are some photos that were taken without the black rectangle, it is not able to correctly identify those. To account for such cases, a sliding window approach was implemented. This approach takes far longer but we hope that this will improve accuracy on this set substantially. "
   ]
  },
  {
   "cell_type": "markdown",
   "metadata": {},
   "source": [
    "## 2.1 With sliding window approach"
   ]
  },
  {
   "cell_type": "code",
   "execution_count": 9,
   "metadata": {},
   "outputs": [
    {
     "name": "stderr",
     "output_type": "stream",
     "text": [
      "\r",
      "0it [00:00, ?it/s]"
     ]
    },
    {
     "name": "stdout",
     "output_type": "stream",
     "text": [
      "No numbers were found in the detected rectangles, now trying the sliding window approach. This may take a minute or two.\n",
      "No numbers were found in the detected rectangles, now trying the sliding window approach. This may take a minute or two.\n",
      "No numbers were found in the detected rectangles, now trying the sliding window approach. This may take a minute or two.\n",
      "No numbers were found in the detected rectangles, now trying the sliding window approach. This may take a minute or two.\n",
      "No numbers were found in the detected rectangles, now trying the sliding window approach. This may take a minute or two.\n",
      "No numbers were found in the detected rectangles, now trying the sliding window approach. This may take a minute or two.\n"
     ]
    },
    {
     "name": "stderr",
     "output_type": "stream",
     "text": [
      "2it [00:44, 22.34s/it]"
     ]
    },
    {
     "name": "stdout",
     "output_type": "stream",
     "text": [
      "No numbers were found in the detected rectangles, now trying the sliding window approach. This may take a minute or two.\n",
      "No numbers were found in the detected rectangles, now trying the sliding window approach. This may take a minute or two.\n",
      "No numbers were found in the detected rectangles, now trying the sliding window approach. This may take a minute or two.\n",
      "No numbers were found in the detected rectangles, now trying the sliding window approach. This may take a minute or two.\n",
      "No numbers were found in the detected rectangles, now trying the sliding window approach. This may take a minute or two.\n",
      "No numbers were found in the detected rectangles, now trying the sliding window approach. This may take a minute or two.\n",
      "No numbers were found in the detected rectangles, now trying the sliding window approach. This may take a minute or two.\n",
      "No numbers were found in the detected rectangles, now trying the sliding window approach. This may take a minute or two.\n",
      "No numbers were found in the detected rectangles, now trying the sliding window approach. This may take a minute or two.\n"
     ]
    },
    {
     "name": "stderr",
     "output_type": "stream",
     "text": [
      "\r",
      "3it [04:24, 88.20s/it]"
     ]
    },
    {
     "name": "stdout",
     "output_type": "stream",
     "text": [
      "No numbers were found in the detected rectangles, now trying the sliding window approach. This may take a minute or two.\n",
      "No numbers were found in the detected rectangles, now trying the sliding window approach. This may take a minute or two.\n",
      "No numbers were found in the detected rectangles, now trying the sliding window approach. This may take a minute or two.\n",
      "No numbers were found in the detected rectangles, now trying the sliding window approach. This may take a minute or two.\n",
      "No numbers were found in the detected rectangles, now trying the sliding window approach. This may take a minute or two.\n"
     ]
    },
    {
     "name": "stderr",
     "output_type": "stream",
     "text": [
      "\r",
      "4it [06:31, 97.89s/it]"
     ]
    },
    {
     "name": "stdout",
     "output_type": "stream",
     "text": [
      "No numbers were found in the detected rectangles, now trying the sliding window approach. This may take a minute or two.\n",
      "No numbers were found in the detected rectangles, now trying the sliding window approach. This may take a minute or two.\n",
      "No numbers were found in the detected rectangles, now trying the sliding window approach. This may take a minute or two.\n",
      "No numbers were found in the detected rectangles, now trying the sliding window approach. This may take a minute or two.\n",
      "No numbers were found in the detected rectangles, now trying the sliding window approach. This may take a minute or two.\n",
      "No numbers were found in the detected rectangles, now trying the sliding window approach. This may take a minute or two.\n"
     ]
    },
    {
     "name": "stderr",
     "output_type": "stream",
     "text": [
      "6it [07:14, 72.50s/it]"
     ]
    },
    {
     "name": "stdout",
     "output_type": "stream",
     "text": [
      "No numbers were found in the detected rectangles, now trying the sliding window approach. This may take a minute or two.\n",
      "No numbers were found in the detected rectangles, now trying the sliding window approach. This may take a minute or two.\n",
      "No numbers were found in the detected rectangles, now trying the sliding window approach. This may take a minute or two.\n",
      "No numbers were found in the detected rectangles, now trying the sliding window approach. This may take a minute or two.\n",
      "No numbers were found in the detected rectangles, now trying the sliding window approach. This may take a minute or two.\n",
      "No numbers were found in the detected rectangles, now trying the sliding window approach. This may take a minute or two.\n",
      "No numbers were found in the detected rectangles, now trying the sliding window approach. This may take a minute or two.\n",
      "No numbers were found in the detected rectangles, now trying the sliding window approach. This may take a minute or two.\n",
      "No numbers were found in the detected rectangles, now trying the sliding window approach. This may take a minute or two.\n",
      "No numbers were found in the detected rectangles, now trying the sliding window approach. This may take a minute or two.\n"
     ]
    },
    {
     "name": "stderr",
     "output_type": "stream",
     "text": [
      "\r",
      "11it [11:19, 61.81s/it]"
     ]
    },
    {
     "name": "stdout",
     "output_type": "stream",
     "text": [
      "No numbers were found in the detected rectangles, now trying the sliding window approach. This may take a minute or two.\n",
      "No numbers were found in the detected rectangles, now trying the sliding window approach. This may take a minute or two.\n",
      "No numbers were found in the detected rectangles, now trying the sliding window approach. This may take a minute or two.\n",
      "No numbers were found in the detected rectangles, now trying the sliding window approach. This may take a minute or two.\n",
      "No numbers were found in the detected rectangles, now trying the sliding window approach. This may take a minute or two.\n",
      "No numbers were found in the detected rectangles, now trying the sliding window approach. This may take a minute or two.\n"
     ]
    },
    {
     "name": "stderr",
     "output_type": "stream",
     "text": [
      "\r",
      "17it [13:48, 48.75s/it]"
     ]
    },
    {
     "name": "stdout",
     "output_type": "stream",
     "text": [
      "No numbers were found in the detected rectangles, now trying the sliding window approach. This may take a minute or two.\n",
      "No numbers were found in the detected rectangles, now trying the sliding window approach. This may take a minute or two.\n",
      "No numbers were found in the detected rectangles, now trying the sliding window approach. This may take a minute or two.\n",
      "No numbers were found in the detected rectangles, now trying the sliding window approach. This may take a minute or two.\n",
      "No numbers were found in the detected rectangles, now trying the sliding window approach. This may take a minute or two.\n",
      "No numbers were found in the detected rectangles, now trying the sliding window approach. This may take a minute or two.\n",
      "No numbers were found in the detected rectangles, now trying the sliding window approach. This may take a minute or two.\n",
      "No numbers were found in the detected rectangles, now trying the sliding window approach. This may take a minute or two.\n",
      "No numbers were found in the detected rectangles, now trying the sliding window approach. This may take a minute or two.\n"
     ]
    },
    {
     "name": "stderr",
     "output_type": "stream",
     "text": [
      "\r",
      "18it [17:28, 58.25s/it]"
     ]
    },
    {
     "name": "stdout",
     "output_type": "stream",
     "text": [
      "No numbers were found in the detected rectangles, now trying the sliding window approach. This may take a minute or two.\n",
      "No numbers were found in the detected rectangles, now trying the sliding window approach. This may take a minute or two.\n",
      "No numbers were found in the detected rectangles, now trying the sliding window approach. This may take a minute or two.\n",
      "No numbers were found in the detected rectangles, now trying the sliding window approach. This may take a minute or two.\n",
      "No numbers were found in the detected rectangles, now trying the sliding window approach. This may take a minute or two.\n",
      "No numbers were found in the detected rectangles, now trying the sliding window approach. This may take a minute or two.\n",
      "No numbers were found in the detected rectangles, now trying the sliding window approach. This may take a minute or two.\n",
      "No numbers were found in the detected rectangles, now trying the sliding window approach. This may take a minute or two.\n",
      "No numbers were found in the detected rectangles, now trying the sliding window approach. This may take a minute or two.\n",
      "No numbers were found in the detected rectangles, now trying the sliding window approach. This may take a minute or two.\n"
     ]
    },
    {
     "name": "stderr",
     "output_type": "stream",
     "text": [
      "22it [21:35, 58.90s/it]"
     ]
    },
    {
     "name": "stdout",
     "output_type": "stream",
     "text": [
      "No numbers were found in the detected rectangles, now trying the sliding window approach. This may take a minute or two.\n",
      "No numbers were found in the detected rectangles, now trying the sliding window approach. This may take a minute or two.\n"
     ]
    },
    {
     "name": "stderr",
     "output_type": "stream",
     "text": [
      "\r",
      "24it [21:56, 54.87s/it]"
     ]
    },
    {
     "name": "stdout",
     "output_type": "stream",
     "text": [
      "No numbers were found in the detected rectangles, now trying the sliding window approach. This may take a minute or two.\n",
      "No numbers were found in the detected rectangles, now trying the sliding window approach. This may take a minute or two.\n",
      "No numbers were found in the detected rectangles, now trying the sliding window approach. This may take a minute or two.\n",
      "No numbers were found in the detected rectangles, now trying the sliding window approach. This may take a minute or two.\n",
      "No numbers were found in the detected rectangles, now trying the sliding window approach. This may take a minute or two.\n",
      "No numbers were found in the detected rectangles, now trying the sliding window approach. This may take a minute or two.\n",
      "No numbers were found in the detected rectangles, now trying the sliding window approach. This may take a minute or two.\n",
      "No numbers were found in the detected rectangles, now trying the sliding window approach. This may take a minute or two.\n",
      "No numbers were found in the detected rectangles, now trying the sliding window approach. This may take a minute or two.\n"
     ]
    },
    {
     "name": "stderr",
     "output_type": "stream",
     "text": [
      "30it [25:39, 51.31s/it]"
     ]
    },
    {
     "name": "stdout",
     "output_type": "stream",
     "text": [
      "No numbers were found in the detected rectangles, now trying the sliding window approach. This may take a minute or two.\n",
      "No numbers were found in the detected rectangles, now trying the sliding window approach. This may take a minute or two.\n",
      "No numbers were found in the detected rectangles, now trying the sliding window approach. This may take a minute or two.\n",
      "No numbers were found in the detected rectangles, now trying the sliding window approach. This may take a minute or two.\n",
      "No numbers were found in the detected rectangles, now trying the sliding window approach. This may take a minute or two.\n",
      "No numbers were found in the detected rectangles, now trying the sliding window approach. This may take a minute or two.\n"
     ]
    },
    {
     "name": "stderr",
     "output_type": "stream",
     "text": [
      "33it [28:16, 51.42s/it]"
     ]
    },
    {
     "name": "stdout",
     "output_type": "stream",
     "text": [
      "No numbers were found in the detected rectangles, now trying the sliding window approach. This may take a minute or two.\n",
      "No numbers were found in the detected rectangles, now trying the sliding window approach. This may take a minute or two.\n",
      "No numbers were found in the detected rectangles, now trying the sliding window approach. This may take a minute or two.\n",
      "No numbers were found in the detected rectangles, now trying the sliding window approach. This may take a minute or two.\n",
      "No numbers were found in the detected rectangles, now trying the sliding window approach. This may take a minute or two.\n"
     ]
    },
    {
     "name": "stderr",
     "output_type": "stream",
     "text": [
      "\r",
      "34it [30:29, 53.81s/it]"
     ]
    },
    {
     "name": "stdout",
     "output_type": "stream",
     "text": [
      "No numbers were found in the detected rectangles, now trying the sliding window approach. This may take a minute or two.\n",
      "No numbers were found in the detected rectangles, now trying the sliding window approach. This may take a minute or two.\n",
      "No numbers were found in the detected rectangles, now trying the sliding window approach. This may take a minute or two.\n",
      "No numbers were found in the detected rectangles, now trying the sliding window approach. This may take a minute or two.\n",
      "No numbers were found in the detected rectangles, now trying the sliding window approach. This may take a minute or two.\n",
      "No numbers were found in the detected rectangles, now trying the sliding window approach. This may take a minute or two.\n",
      "No numbers were found in the detected rectangles, now trying the sliding window approach. This may take a minute or two.\n",
      "No numbers were found in the detected rectangles, now trying the sliding window approach. This may take a minute or two.\n",
      "No numbers were found in the detected rectangles, now trying the sliding window approach. This may take a minute or two.\n",
      "No numbers were found in the detected rectangles, now trying the sliding window approach. This may take a minute or two.\n",
      "No numbers were found in the detected rectangles, now trying the sliding window approach. This may take a minute or two.\n",
      "No numbers were found in the detected rectangles, now trying the sliding window approach. This may take a minute or two.\n"
     ]
    },
    {
     "name": "stderr",
     "output_type": "stream",
     "text": [
      "\r",
      "35it [35:19, 60.57s/it]"
     ]
    },
    {
     "name": "stdout",
     "output_type": "stream",
     "text": [
      "No numbers were found in the detected rectangles, now trying the sliding window approach. This may take a minute or two.\n",
      "No numbers were found in the detected rectangles, now trying the sliding window approach. This may take a minute or two.\n",
      "No numbers were found in the detected rectangles, now trying the sliding window approach. This may take a minute or two.\n",
      "No numbers were found in the detected rectangles, now trying the sliding window approach. This may take a minute or two.\n",
      "No numbers were found in the detected rectangles, now trying the sliding window approach. This may take a minute or two.\n",
      "No numbers were found in the detected rectangles, now trying the sliding window approach. This may take a minute or two.\n",
      "No numbers were found in the detected rectangles, now trying the sliding window approach. This may take a minute or two.\n",
      "No numbers were found in the detected rectangles, now trying the sliding window approach. This may take a minute or two.\n",
      "No numbers were found in the detected rectangles, now trying the sliding window approach. This may take a minute or two.\n",
      "No numbers were found in the detected rectangles, now trying the sliding window approach. This may take a minute or two.\n",
      "No numbers were found in the detected rectangles, now trying the sliding window approach. This may take a minute or two.\n"
     ]
    },
    {
     "name": "stderr",
     "output_type": "stream",
     "text": [
      "38it [39:49, 62.89s/it]"
     ]
    },
    {
     "name": "stdout",
     "output_type": "stream",
     "text": [
      "No numbers were found in the detected rectangles, now trying the sliding window approach. This may take a minute or two.\n",
      "No numbers were found in the detected rectangles, now trying the sliding window approach. This may take a minute or two.\n",
      "No numbers were found in the detected rectangles, now trying the sliding window approach. This may take a minute or two.\n",
      "No numbers were found in the detected rectangles, now trying the sliding window approach. This may take a minute or two.\n",
      "No numbers were found in the detected rectangles, now trying the sliding window approach. This may take a minute or two.\n"
     ]
    },
    {
     "name": "stderr",
     "output_type": "stream",
     "text": [
      "42it [42:01, 60.03s/it]"
     ]
    },
    {
     "name": "stdout",
     "output_type": "stream",
     "text": [
      "No numbers were found in the detected rectangles, now trying the sliding window approach. This may take a minute or two.\n",
      "No numbers were found in the detected rectangles, now trying the sliding window approach. This may take a minute or two.\n",
      "No numbers were found in the detected rectangles, now trying the sliding window approach. This may take a minute or two.\n",
      "No numbers were found in the detected rectangles, now trying the sliding window approach. This may take a minute or two.\n",
      "No numbers were found in the detected rectangles, now trying the sliding window approach. This may take a minute or two.\n",
      "No numbers were found in the detected rectangles, now trying the sliding window approach. This may take a minute or two.\n",
      "No numbers were found in the detected rectangles, now trying the sliding window approach. This may take a minute or two.\n",
      "No numbers were found in the detected rectangles, now trying the sliding window approach. This may take a minute or two.\n",
      "No numbers were found in the detected rectangles, now trying the sliding window approach. This may take a minute or two.\n",
      "No numbers were found in the detected rectangles, now trying the sliding window approach. This may take a minute or two.\n",
      "No numbers were found in the detected rectangles, now trying the sliding window approach. This may take a minute or two.\n"
     ]
    },
    {
     "name": "stderr",
     "output_type": "stream",
     "text": [
      "\r",
      "43it [46:27, 64.82s/it]"
     ]
    },
    {
     "name": "stdout",
     "output_type": "stream",
     "text": [
      "No numbers were found in the detected rectangles, now trying the sliding window approach. This may take a minute or two.\n",
      "No numbers were found in the detected rectangles, now trying the sliding window approach. This may take a minute or two.\n",
      "No numbers were found in the detected rectangles, now trying the sliding window approach. This may take a minute or two.\n",
      "No numbers were found in the detected rectangles, now trying the sliding window approach. This may take a minute or two.\n",
      "No numbers were found in the detected rectangles, now trying the sliding window approach. This may take a minute or two.\n",
      "No numbers were found in the detected rectangles, now trying the sliding window approach. This may take a minute or two.\n",
      "No numbers were found in the detected rectangles, now trying the sliding window approach. This may take a minute or two.\n",
      "No numbers were found in the detected rectangles, now trying the sliding window approach. This may take a minute or two.\n",
      "No numbers were found in the detected rectangles, now trying the sliding window approach. This may take a minute or two.\n",
      "No numbers were found in the detected rectangles, now trying the sliding window approach. This may take a minute or two.\n"
     ]
    },
    {
     "name": "stderr",
     "output_type": "stream",
     "text": [
      "\r",
      "46it [50:25, 65.77s/it]"
     ]
    },
    {
     "name": "stdout",
     "output_type": "stream",
     "text": [
      "No numbers were found in the detected rectangles, now trying the sliding window approach. This may take a minute or two.\n",
      "No numbers were found in the detected rectangles, now trying the sliding window approach. This may take a minute or two.\n",
      "No numbers were found in the detected rectangles, now trying the sliding window approach. This may take a minute or two.\n",
      "No numbers were found in the detected rectangles, now trying the sliding window approach. This may take a minute or two.\n",
      "No numbers were found in the detected rectangles, now trying the sliding window approach. This may take a minute or two.\n",
      "No numbers were found in the detected rectangles, now trying the sliding window approach. This may take a minute or two.\n",
      "No numbers were found in the detected rectangles, now trying the sliding window approach. This may take a minute or two.\n",
      "No numbers were found in the detected rectangles, now trying the sliding window approach. This may take a minute or two.\n",
      "No numbers were found in the detected rectangles, now trying the sliding window approach. This may take a minute or two.\n"
     ]
    },
    {
     "name": "stderr",
     "output_type": "stream",
     "text": [
      "\r",
      "48it [54:06, 67.63s/it]"
     ]
    },
    {
     "name": "stdout",
     "output_type": "stream",
     "text": [
      "No numbers were found in the detected rectangles, now trying the sliding window approach. This may take a minute or two.\n",
      "No numbers were found in the detected rectangles, now trying the sliding window approach. This may take a minute or two.\n",
      "No numbers were found in the detected rectangles, now trying the sliding window approach. This may take a minute or two.\n",
      "No numbers were found in the detected rectangles, now trying the sliding window approach. This may take a minute or two.\n",
      "No numbers were found in the detected rectangles, now trying the sliding window approach. This may take a minute or two.\n"
     ]
    },
    {
     "name": "stderr",
     "output_type": "stream",
     "text": [
      "\r",
      "50it [56:10, 67.42s/it]"
     ]
    },
    {
     "name": "stdout",
     "output_type": "stream",
     "text": [
      "No numbers were found in the detected rectangles, now trying the sliding window approach. This may take a minute or two.\n",
      "No numbers were found in the detected rectangles, now trying the sliding window approach. This may take a minute or two.\n",
      "No numbers were found in the detected rectangles, now trying the sliding window approach. This may take a minute or two.\n",
      "No numbers were found in the detected rectangles, now trying the sliding window approach. This may take a minute or two.\n",
      "No numbers were found in the detected rectangles, now trying the sliding window approach. This may take a minute or two.\n",
      "No numbers were found in the detected rectangles, now trying the sliding window approach. This may take a minute or two.\n",
      "No numbers were found in the detected rectangles, now trying the sliding window approach. This may take a minute or two.\n",
      "No numbers were found in the detected rectangles, now trying the sliding window approach. This may take a minute or two.\n"
     ]
    },
    {
     "name": "stderr",
     "output_type": "stream",
     "text": [
      "55it [59:28, 64.88s/it]\n"
     ]
    }
   ],
   "source": [
    "trueJW,predJW,imgpathsJW = predict_num(raw_path,'*.JPG')"
   ]
  },
  {
   "cell_type": "code",
   "execution_count": 11,
   "metadata": {},
   "outputs": [
    {
     "name": "stdout",
     "output_type": "stream",
     "text": [
      "Dataset size: 262\n"
     ]
    }
   ],
   "source": [
    "print('Dataset size: {}'.format(len(predJW)))"
   ]
  },
  {
   "cell_type": "code",
   "execution_count": 18,
   "metadata": {},
   "outputs": [
    {
     "name": "stdout",
     "output_type": "stream",
     "text": [
      "0.49236641221374045\n",
      "0.6946564885496184\n"
     ]
    }
   ],
   "source": [
    "trueJW_int = [int(i) for i in trueJW]\n",
    "trueJW_int2 = [i-100 if i>100 else i for i in trueJW_int]\n",
    "predJW_int = [int(i) for i in predJW]\n",
    "print(accuracy_score(trueJW_int,predJW_int))\n",
    "print(accuracy_score(trueJW_int2,predJW_int))"
   ]
  }
 ],
 "metadata": {
  "kernelspec": {
   "display_name": "cv",
   "language": "python",
   "name": "cv"
  },
  "language_info": {
   "codemirror_mode": {
    "name": "ipython",
    "version": 3
   },
   "file_extension": ".py",
   "mimetype": "text/x-python",
   "name": "python",
   "nbconvert_exporter": "python",
   "pygments_lexer": "ipython3",
   "version": "3.5.4"
  }
 },
 "nbformat": 4,
 "nbformat_minor": 2
}
